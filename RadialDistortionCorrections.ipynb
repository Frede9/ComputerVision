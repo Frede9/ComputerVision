{
 "cells": [
  {
   "cell_type": "code",
   "execution_count": 1,
   "id": "elect-fortune",
   "metadata": {},
   "outputs": [],
   "source": [
    "# import necessary libraries\n",
    "import cv2\n",
    "import numpy as np"
   ]
  },
  {
   "cell_type": "code",
   "execution_count": 2,
   "id": "hindu-accessory",
   "metadata": {},
   "outputs": [],
   "source": [
    "# read image\n",
    "img = cv2.imread('StadtRadialDistorted.jpg')"
   ]
  },
  {
   "cell_type": "code",
   "execution_count": 3,
   "id": "suspended-simon",
   "metadata": {},
   "outputs": [],
   "source": [
    "# Get undistorted image\n",
    "def get_undistorted_img(img):\n",
    "    camera_matrix = np.array([[img.shape[1], 0, img.shape[1] // 2],\n",
    "                    [0, img.shape[0], img.shape[0] // 2],\n",
    "                    [0, 0, 1]])\n",
    "    \n",
    "    distortion = np.array([-0.5, 0, 0, 0, 0], dtype=np.float32)\n",
    "    \n",
    "    map1, map2 = cv2.initUndistortRectifyMap(camera_matrix, distortion, None, None, (img.shape[1], img.shape[0]), cv2.CV_32FC1)\n",
    "    \n",
    "    return cv2.remap(img, map1, map2, interpolation=cv2.INTER_LINEAR, borderMode=cv2.BORDER_REFLECT_101)"
   ]
  },
  {
   "cell_type": "code",
   "execution_count": 4,
   "id": "finite-omega",
   "metadata": {},
   "outputs": [],
   "source": [
    "cv2.imwrite('undistorted.png', get_undistorted_img(img));"
   ]
  }
 ],
 "metadata": {
  "kernelspec": {
   "display_name": "Python 3",
   "language": "python",
   "name": "python3"
  },
  "language_info": {
   "codemirror_mode": {
    "name": "ipython",
    "version": 3
   },
   "file_extension": ".py",
   "mimetype": "text/x-python",
   "name": "python",
   "nbconvert_exporter": "python",
   "pygments_lexer": "ipython3",
   "version": "3.6.5"
  }
 },
 "nbformat": 4,
 "nbformat_minor": 5
}
