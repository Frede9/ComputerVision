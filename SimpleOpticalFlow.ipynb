{
 "cells": [
  {
   "cell_type": "code",
   "execution_count": 1,
   "id": "auburn-offer",
   "metadata": {},
   "outputs": [],
   "source": [
    "# import necessary libraries\n",
    "import cv2\n",
    "import numpy as np\n",
    "import matplotlib.pyplot as plt"
   ]
  },
  {
   "cell_type": "code",
   "execution_count": 2,
   "id": "continental-authentication",
   "metadata": {},
   "outputs": [],
   "source": [
    "# Zeichnen des Flows zu Teilen übernommen von: \n",
    "# https://gist.github.com/RodolfoFerro/7a8f3b3adb1bf30cfc14cd154415afb5\n",
    "\n",
    "def draw_flow(img, flow):\n",
    "    \n",
    "    # Define spacing between grid points\n",
    "    grid_spacing = 8\n",
    "    \n",
    "    # Create grid\n",
    "    h, w, = img.shape\n",
    "    y, x = np.mgrid[grid_spacing/2:h:grid_spacing, grid_spacing/2:w:grid_spacing].reshape(2, -1).astype(int)\n",
    "    \n",
    "    # Get flow of grid points\n",
    "    fx, fy = flow[y, x].T\n",
    "    lines = np.vstack([x, y, x + fx, y + fy]).T.reshape(-1, 2, 2)\n",
    "    lines = np.int32(lines + 0.5)\n",
    "    \n",
    "    # Convert to BGR and draw lines\n",
    "    vis = cv2.cvtColor(img, cv2.COLOR_GRAY2BGR)\n",
    "    cv2.polylines(vis, lines, 0, (0, 255, 0))\n",
    "        \n",
    "    return vis"
   ]
  },
  {
   "cell_type": "code",
   "execution_count": 3,
   "id": "reserved-shannon",
   "metadata": {},
   "outputs": [],
   "source": [
    "def calculateOpticalFlow(prevgray, cap):\n",
    "    while True:\n",
    "        ret, img = cap.read()\n",
    "        gray = cv2.cvtColor(img, cv2.COLOR_BGR2GRAY)\n",
    "        flow = cv2.calcOpticalFlowFarneback(\n",
    "            prevgray, gray, None, 0.5, 3, 15, 3, 5, 1.2, 0)\n",
    "        prevgray = gray\n",
    "\n",
    "        cv2.imshow('flow', draw_flow(gray, flow))\n",
    "\n",
    "        k = cv2.waitKey(30) & 0xff\n",
    "        if k == 27:\n",
    "            break\n",
    "    cv2.destroyAllWindows()"
   ]
  },
  {
   "cell_type": "code",
   "execution_count": 4,
   "id": "floppy-testing",
   "metadata": {},
   "outputs": [],
   "source": [
    "def ShowSimpleOpticalFlow(PathToVideo):\n",
    "    \n",
    "    cap = cv2.VideoCapture(PathToVideo)\n",
    "    ret, prev = cap.read()\n",
    "    prevgray = cv2.cvtColor(prev, cv2.COLOR_BGR2GRAY)\n",
    "    \n",
    "    calculateOpticalFlow(prevgray, cap)\n",
    "    "
   ]
  },
  {
   "cell_type": "code",
   "execution_count": 5,
   "id": "existing-hygiene",
   "metadata": {},
   "outputs": [
    {
     "ename": "KeyboardInterrupt",
     "evalue": "",
     "output_type": "error",
     "traceback": [
      "\u001b[1;31m---------------------------------------------------------------------------\u001b[0m",
      "\u001b[1;31mKeyboardInterrupt\u001b[0m                         Traceback (most recent call last)",
      "\u001b[1;32m<ipython-input-5-5c63186cdd0f>\u001b[0m in \u001b[0;36m<module>\u001b[1;34m\u001b[0m\n\u001b[0;32m      1\u001b[0m \u001b[0mPathToVideo\u001b[0m \u001b[1;33m=\u001b[0m \u001b[1;34m'coaster.mp4'\u001b[0m\u001b[1;33m\u001b[0m\u001b[0m\n\u001b[1;32m----> 2\u001b[1;33m \u001b[0mShowSimpleOpticalFlow\u001b[0m\u001b[1;33m(\u001b[0m\u001b[0mPathToVideo\u001b[0m\u001b[1;33m)\u001b[0m\u001b[1;33m\u001b[0m\u001b[0m\n\u001b[0m",
      "\u001b[1;32m<ipython-input-4-a189385066da>\u001b[0m in \u001b[0;36mShowSimpleOpticalFlow\u001b[1;34m(PathToVideo)\u001b[0m\n\u001b[0;32m      5\u001b[0m     \u001b[0mprevgray\u001b[0m \u001b[1;33m=\u001b[0m \u001b[0mcv2\u001b[0m\u001b[1;33m.\u001b[0m\u001b[0mcvtColor\u001b[0m\u001b[1;33m(\u001b[0m\u001b[0mprev\u001b[0m\u001b[1;33m,\u001b[0m \u001b[0mcv2\u001b[0m\u001b[1;33m.\u001b[0m\u001b[0mCOLOR_BGR2GRAY\u001b[0m\u001b[1;33m)\u001b[0m\u001b[1;33m\u001b[0m\u001b[0m\n\u001b[0;32m      6\u001b[0m \u001b[1;33m\u001b[0m\u001b[0m\n\u001b[1;32m----> 7\u001b[1;33m     \u001b[0mcalculateOpticalFlow\u001b[0m\u001b[1;33m(\u001b[0m\u001b[0mprevgray\u001b[0m\u001b[1;33m,\u001b[0m \u001b[0mcap\u001b[0m\u001b[1;33m)\u001b[0m\u001b[1;33m\u001b[0m\u001b[0m\n\u001b[0m\u001b[0;32m      8\u001b[0m \u001b[1;33m\u001b[0m\u001b[0m\n",
      "\u001b[1;32m<ipython-input-3-1f544bc370da>\u001b[0m in \u001b[0;36mcalculateOpticalFlow\u001b[1;34m(prevgray, cap)\u001b[0m\n\u001b[0;32m      9\u001b[0m         \u001b[0mcv2\u001b[0m\u001b[1;33m.\u001b[0m\u001b[0mimshow\u001b[0m\u001b[1;33m(\u001b[0m\u001b[1;34m'flow'\u001b[0m\u001b[1;33m,\u001b[0m \u001b[0mdraw_flow\u001b[0m\u001b[1;33m(\u001b[0m\u001b[0mgray\u001b[0m\u001b[1;33m,\u001b[0m \u001b[0mflow\u001b[0m\u001b[1;33m)\u001b[0m\u001b[1;33m)\u001b[0m\u001b[1;33m\u001b[0m\u001b[0m\n\u001b[0;32m     10\u001b[0m \u001b[1;33m\u001b[0m\u001b[0m\n\u001b[1;32m---> 11\u001b[1;33m         \u001b[0mk\u001b[0m \u001b[1;33m=\u001b[0m \u001b[0mcv2\u001b[0m\u001b[1;33m.\u001b[0m\u001b[0mwaitKey\u001b[0m\u001b[1;33m(\u001b[0m\u001b[1;36m30\u001b[0m\u001b[1;33m)\u001b[0m \u001b[1;33m&\u001b[0m \u001b[1;36m0xff\u001b[0m\u001b[1;33m\u001b[0m\u001b[0m\n\u001b[0m\u001b[0;32m     12\u001b[0m         \u001b[1;32mif\u001b[0m \u001b[0mk\u001b[0m \u001b[1;33m==\u001b[0m \u001b[1;36m27\u001b[0m\u001b[1;33m:\u001b[0m\u001b[1;33m\u001b[0m\u001b[0m\n\u001b[0;32m     13\u001b[0m             \u001b[1;32mbreak\u001b[0m\u001b[1;33m\u001b[0m\u001b[0m\n",
      "\u001b[1;31mKeyboardInterrupt\u001b[0m: "
     ]
    }
   ],
   "source": [
    "PathToVideo = 'coaster.mp4'\n",
    "ShowSimpleOpticalFlow(PathToVideo)"
   ]
  }
 ],
 "metadata": {
  "kernelspec": {
   "display_name": "Python 3",
   "language": "python",
   "name": "python3"
  },
  "language_info": {
   "codemirror_mode": {
    "name": "ipython",
    "version": 3
   },
   "file_extension": ".py",
   "mimetype": "text/x-python",
   "name": "python",
   "nbconvert_exporter": "python",
   "pygments_lexer": "ipython3",
   "version": "3.6.5"
  }
 },
 "nbformat": 4,
 "nbformat_minor": 5
}
